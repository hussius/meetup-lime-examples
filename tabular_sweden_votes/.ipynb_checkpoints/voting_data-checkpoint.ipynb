{
 "cells": [
  {
   "cell_type": "markdown",
   "metadata": {},
   "source": [
    "<h2>Explaining predictions of vote shares</h2>\n",
    "\n",
    "Here, we build random forest models of vote shares in the Swedish general election of 2014. The input data consist of (i) vote percentages for the 290 municipalities in Sweden, (ii) a dataset with various indicators for these municipalities, such as unemployment rate, urban/rural and so on, and (iii) number of asylum seekers per capita for munipalities in 2014. \n",
    "\n",
    "In this example, we will demonstrate LIME's tabular mode for when you have \"normal\" tabular data and not e.g. text or image data. We will show LIME's \"tabular explainer\" both in regression and in classification mode."
   ]
  },
  {
   "cell_type": "code",
   "execution_count": 12,
   "metadata": {},
   "outputs": [
    {
     "name": "stderr",
     "output_type": "stream",
     "text": [
      "IOPub data rate exceeded.\n",
      "The notebook server will temporarily stop sending output\n",
      "to the client in order to avoid crashing it.\n",
      "To change this limit, set the config variable\n",
      "`--NotebookApp.iopub_data_rate_limit`.\n"
     ]
    }
   ],
   "source": [
    "import pandas as pd\n",
    "import sklearn\n",
    "import sklearn.datasets\n",
    "import sklearn.ensemble\n",
    "from sklearn.preprocessing import OneHotEncoder\n",
    "from sklearn.ensemble import RandomForestRegressor\n",
    "from sklearn.ensemble import RandomForestClassifier\n",
    "from sklearn.model_selection import train_test_split\n",
    "import seaborn as sns\n",
    "import numpy as np\n",
    "import lime\n",
    "import lime.lime_tabular\n",
    "%matplotlib inline\n",
    "import plotly\n",
    "import plotly.plotly as py\n",
    "import plotly.graph_objs as go\n",
    "from plotly import __version__\n",
    "from plotly.offline import download_plotlyjs, init_notebook_mode, plot, iplot\n",
    "init_notebook_mode()\n",
    "import mpld3 # If plotly is down"
   ]
  },
  {
   "cell_type": "code",
   "execution_count": 2,
   "metadata": {
    "collapsed": true
   },
   "outputs": [],
   "source": [
    "vote_data = pd.read_csv(\"municipality_votes_2014.tsv\", delimiter=\"\\t\", index_col=0)\n",
    "columns_to_use = [\"PROCENT_M\",\"PROCENT_C\",\"PROCENT_FP\",\"PROCENT_KD\",\"PROCENT_S\",\"PROCENT_V\",\"PROCENT_MP\",\"PROCENT_SD\",\"PROCENT_FI\"]\n",
    "vote_perc = vote_data[columns_to_use]\n",
    "vote_perc.columns = [x.split('_')[1] for x in vote_perc.columns ]"
   ]
  },
  {
   "cell_type": "markdown",
   "metadata": {},
   "source": [
    "After some light pre-processing, we get a matrix with the vote share for the nine largest parties per municipality."
   ]
  },
  {
   "cell_type": "code",
   "execution_count": 3,
   "metadata": {},
   "outputs": [
    {
     "data": {
      "text/html": [
       "<div>\n",
       "<style>\n",
       "    .dataframe thead tr:only-child th {\n",
       "        text-align: right;\n",
       "    }\n",
       "\n",
       "    .dataframe thead th {\n",
       "        text-align: left;\n",
       "    }\n",
       "\n",
       "    .dataframe tbody tr th {\n",
       "        vertical-align: top;\n",
       "    }\n",
       "</style>\n",
       "<table border=\"1\" class=\"dataframe\">\n",
       "  <thead>\n",
       "    <tr style=\"text-align: right;\">\n",
       "      <th></th>\n",
       "      <th>M</th>\n",
       "      <th>C</th>\n",
       "      <th>FP</th>\n",
       "      <th>KD</th>\n",
       "      <th>S</th>\n",
       "      <th>V</th>\n",
       "      <th>MP</th>\n",
       "      <th>SD</th>\n",
       "      <th>FI</th>\n",
       "    </tr>\n",
       "    <tr>\n",
       "      <th>ID</th>\n",
       "      <th></th>\n",
       "      <th></th>\n",
       "      <th></th>\n",
       "      <th></th>\n",
       "      <th></th>\n",
       "      <th></th>\n",
       "      <th></th>\n",
       "      <th></th>\n",
       "      <th></th>\n",
       "    </tr>\n",
       "  </thead>\n",
       "  <tbody>\n",
       "    <tr>\n",
       "      <th>780</th>\n",
       "      <td>24.1</td>\n",
       "      <td>7.7</td>\n",
       "      <td>4.3</td>\n",
       "      <td>5.0</td>\n",
       "      <td>31.3</td>\n",
       "      <td>5.1</td>\n",
       "      <td>7.0</td>\n",
       "      <td>12.3</td>\n",
       "      <td>2.3</td>\n",
       "    </tr>\n",
       "    <tr>\n",
       "      <th>1487</th>\n",
       "      <td>17.8</td>\n",
       "      <td>6.6</td>\n",
       "      <td>4.8</td>\n",
       "      <td>4.5</td>\n",
       "      <td>35.1</td>\n",
       "      <td>6.6</td>\n",
       "      <td>5.9</td>\n",
       "      <td>16.0</td>\n",
       "      <td>1.9</td>\n",
       "    </tr>\n",
       "    <tr>\n",
       "      <th>1765</th>\n",
       "      <td>19.1</td>\n",
       "      <td>12.6</td>\n",
       "      <td>5.7</td>\n",
       "      <td>8.0</td>\n",
       "      <td>29.6</td>\n",
       "      <td>3.2</td>\n",
       "      <td>2.3</td>\n",
       "      <td>18.2</td>\n",
       "      <td>0.7</td>\n",
       "    </tr>\n",
       "    <tr>\n",
       "      <th>1293</th>\n",
       "      <td>18.9</td>\n",
       "      <td>6.1</td>\n",
       "      <td>3.8</td>\n",
       "      <td>5.2</td>\n",
       "      <td>30.0</td>\n",
       "      <td>3.1</td>\n",
       "      <td>6.8</td>\n",
       "      <td>23.7</td>\n",
       "      <td>1.7</td>\n",
       "    </tr>\n",
       "    <tr>\n",
       "      <th>2403</th>\n",
       "      <td>21.4</td>\n",
       "      <td>12.2</td>\n",
       "      <td>5.6</td>\n",
       "      <td>6.1</td>\n",
       "      <td>38.1</td>\n",
       "      <td>4.3</td>\n",
       "      <td>1.7</td>\n",
       "      <td>9.4</td>\n",
       "      <td>0.7</td>\n",
       "    </tr>\n",
       "  </tbody>\n",
       "</table>\n",
       "</div>"
      ],
      "text/plain": [
       "         M     C   FP   KD     S    V   MP    SD   FI\n",
       "ID                                                   \n",
       "780   24.1   7.7  4.3  5.0  31.3  5.1  7.0  12.3  2.3\n",
       "1487  17.8   6.6  4.8  4.5  35.1  6.6  5.9  16.0  1.9\n",
       "1765  19.1  12.6  5.7  8.0  29.6  3.2  2.3  18.2  0.7\n",
       "1293  18.9   6.1  3.8  5.2  30.0  3.1  6.8  23.7  1.7\n",
       "2403  21.4  12.2  5.6  6.1  38.1  4.3  1.7   9.4  0.7"
      ]
     },
     "execution_count": 3,
     "metadata": {},
     "output_type": "execute_result"
    }
   ],
   "source": [
    "vote_perc.head()"
   ]
  },
  {
   "cell_type": "markdown",
   "metadata": {},
   "source": [
    "Now we join this table with the municipality descriptors and asylum numbers."
   ]
  },
  {
   "cell_type": "code",
   "execution_count": 4,
   "metadata": {
    "collapsed": true
   },
   "outputs": [],
   "source": [
    "municipality_desc = pd.read_excel(\"kommundata.xlsx\")\n",
    "asylum_seekers = pd.read_excel(\"asylsdochm.xlsx\")\n",
    "asylum_seekers = asylum_seekers.iloc[2:, [1,4]]\n",
    "asylum_seekers.columns = [\"Municipality\",\"AsylumSeekers\"]\n",
    "asylum_seekers.AsylumSeekers=asylum_seekers.AsylumSeekers.astype(float)\n",
    "muni = municipality_desc.merge(asylum_seekers, left_on=\"name\", right_on=\"Municipality\")\n",
    "muni.head()\n",
    "muni.index = muni.name"
   ]
  },
  {
   "cell_type": "markdown",
   "metadata": {},
   "source": [
    "Great, now we have a table which contains the information we need. For convenience, we also make two lookup tables that can find the municipality code from the municipality name, and vice versa."
   ]
  },
  {
   "cell_type": "code",
   "execution_count": 5,
   "metadata": {
    "collapsed": true
   },
   "outputs": [],
   "source": [
    "code_from_name = {}\n",
    "name_from_code = {}\n",
    "for row in range(muni.shape[0]):\n",
    "    code_from_name[muni.iloc[row,1]]=muni.iloc[row,0]\n",
    "    name_from_code[muni.iloc[row,0]]=muni.iloc[row,1]"
   ]
  },
  {
   "cell_type": "markdown",
   "metadata": {},
   "source": [
    "Next, we drop some of the features that are either redundant or that we don't think are interesting."
   ]
  },
  {
   "cell_type": "code",
   "execution_count": 6,
   "metadata": {},
   "outputs": [
    {
     "data": {
      "text/html": [
       "<div>\n",
       "<style>\n",
       "    .dataframe thead tr:only-child th {\n",
       "        text-align: right;\n",
       "    }\n",
       "\n",
       "    .dataframe thead th {\n",
       "        text-align: left;\n",
       "    }\n",
       "\n",
       "    .dataframe tbody tr th {\n",
       "        vertical-align: top;\n",
       "    }\n",
       "</style>\n",
       "<table border=\"1\" class=\"dataframe\">\n",
       "  <thead>\n",
       "    <tr style=\"text-align: right;\">\n",
       "      <th></th>\n",
       "      <th>medianIncome</th>\n",
       "      <th>youthUnemployment2013</th>\n",
       "      <th>unemployment2013</th>\n",
       "      <th>unemploymentChange</th>\n",
       "      <th>reportedCrime</th>\n",
       "      <th>populationChange</th>\n",
       "      <th>hasEducation</th>\n",
       "      <th>asylumCosts</th>\n",
       "      <th>urbanDegree</th>\n",
       "      <th>foreignBorn</th>\n",
       "      <th>...</th>\n",
       "      <th>refugees</th>\n",
       "      <th>rentalApartments</th>\n",
       "      <th>governing</th>\n",
       "      <th>fokusRanking</th>\n",
       "      <th>foretagsklimatRanking</th>\n",
       "      <th>cars</th>\n",
       "      <th>motorcycles</th>\n",
       "      <th>tractors</th>\n",
       "      <th>snowmobiles</th>\n",
       "      <th>AsylumSeekers</th>\n",
       "    </tr>\n",
       "    <tr>\n",
       "      <th>name</th>\n",
       "      <th></th>\n",
       "      <th></th>\n",
       "      <th></th>\n",
       "      <th></th>\n",
       "      <th></th>\n",
       "      <th></th>\n",
       "      <th></th>\n",
       "      <th></th>\n",
       "      <th></th>\n",
       "      <th></th>\n",
       "      <th></th>\n",
       "      <th></th>\n",
       "      <th></th>\n",
       "      <th></th>\n",
       "      <th></th>\n",
       "      <th></th>\n",
       "      <th></th>\n",
       "      <th></th>\n",
       "      <th></th>\n",
       "      <th></th>\n",
       "      <th></th>\n",
       "    </tr>\n",
       "  </thead>\n",
       "  <tbody>\n",
       "    <tr>\n",
       "      <th>Växjö</th>\n",
       "      <td>201793</td>\n",
       "      <td>8.7</td>\n",
       "      <td>8.0</td>\n",
       "      <td>0.1</td>\n",
       "      <td>831</td>\n",
       "      <td>0.8</td>\n",
       "      <td>27.5</td>\n",
       "      <td>333</td>\n",
       "      <td>49.1</td>\n",
       "      <td>11.7</td>\n",
       "      <td>...</td>\n",
       "      <td>33.8</td>\n",
       "      <td>234.1</td>\n",
       "      <td>Borgerligt</td>\n",
       "      <td>19</td>\n",
       "      <td>24</td>\n",
       "      <td>3651.694532</td>\n",
       "      <td>200.542250</td>\n",
       "      <td>260.370538</td>\n",
       "      <td>4.609128</td>\n",
       "      <td>4.95</td>\n",
       "    </tr>\n",
       "    <tr>\n",
       "      <th>Vänersborg</th>\n",
       "      <td>195999</td>\n",
       "      <td>13.2</td>\n",
       "      <td>9.4</td>\n",
       "      <td>-0.1</td>\n",
       "      <td>641</td>\n",
       "      <td>2.7</td>\n",
       "      <td>35.0</td>\n",
       "      <td>0</td>\n",
       "      <td>67.4</td>\n",
       "      <td>6.7</td>\n",
       "      <td>...</td>\n",
       "      <td>14.4</td>\n",
       "      <td>164.8</td>\n",
       "      <td>Blandat</td>\n",
       "      <td>80</td>\n",
       "      <td>231</td>\n",
       "      <td>2230.455552</td>\n",
       "      <td>138.180123</td>\n",
       "      <td>226.960270</td>\n",
       "      <td>8.155657</td>\n",
       "      <td>19.78</td>\n",
       "    </tr>\n",
       "    <tr>\n",
       "      <th>Årjäng</th>\n",
       "      <td>182826</td>\n",
       "      <td>5.5</td>\n",
       "      <td>5.3</td>\n",
       "      <td>-1.9</td>\n",
       "      <td>575</td>\n",
       "      <td>-3.5</td>\n",
       "      <td>22.8</td>\n",
       "      <td>1960</td>\n",
       "      <td>72.8</td>\n",
       "      <td>8.8</td>\n",
       "      <td>...</td>\n",
       "      <td>11.2</td>\n",
       "      <td>129.1</td>\n",
       "      <td>Borgerligt</td>\n",
       "      <td>204</td>\n",
       "      <td>113</td>\n",
       "      <td>765.670911</td>\n",
       "      <td>46.767875</td>\n",
       "      <td>183.031342</td>\n",
       "      <td>11.263467</td>\n",
       "      <td>13.36</td>\n",
       "    </tr>\n",
       "    <tr>\n",
       "      <th>Hässleholm</th>\n",
       "      <td>237817</td>\n",
       "      <td>13.1</td>\n",
       "      <td>9.6</td>\n",
       "      <td>0.5</td>\n",
       "      <td>751</td>\n",
       "      <td>3.9</td>\n",
       "      <td>30.7</td>\n",
       "      <td>749</td>\n",
       "      <td>88.9</td>\n",
       "      <td>15.5</td>\n",
       "      <td>...</td>\n",
       "      <td>13.2</td>\n",
       "      <td>136.9</td>\n",
       "      <td>Borgerligt</td>\n",
       "      <td>83</td>\n",
       "      <td>187</td>\n",
       "      <td>1311.598558</td>\n",
       "      <td>103.215144</td>\n",
       "      <td>181.189904</td>\n",
       "      <td>0.951522</td>\n",
       "      <td>12.48</td>\n",
       "    </tr>\n",
       "    <tr>\n",
       "      <th>Bjurholm</th>\n",
       "      <td>168796</td>\n",
       "      <td>11.5</td>\n",
       "      <td>10.2</td>\n",
       "      <td>3.5</td>\n",
       "      <td>205</td>\n",
       "      <td>-3.2</td>\n",
       "      <td>25.1</td>\n",
       "      <td>546</td>\n",
       "      <td>39.3</td>\n",
       "      <td>11.2</td>\n",
       "      <td>...</td>\n",
       "      <td>52.0</td>\n",
       "      <td>87.6</td>\n",
       "      <td>Borgerligt</td>\n",
       "      <td>266</td>\n",
       "      <td>38</td>\n",
       "      <td>565.270936</td>\n",
       "      <td>38.177340</td>\n",
       "      <td>176.518883</td>\n",
       "      <td>186.781609</td>\n",
       "      <td>4.93</td>\n",
       "    </tr>\n",
       "  </tbody>\n",
       "</table>\n",
       "<p>5 rows × 28 columns</p>\n",
       "</div>"
      ],
      "text/plain": [
       "            medianIncome  youthUnemployment2013  unemployment2013  \\\n",
       "name                                                                \n",
       "Växjö             201793                    8.7               8.0   \n",
       "Vänersborg        195999                   13.2               9.4   \n",
       "Årjäng            182826                    5.5               5.3   \n",
       "Hässleholm        237817                   13.1               9.6   \n",
       "Bjurholm          168796                   11.5              10.2   \n",
       "\n",
       "            unemploymentChange  reportedCrime  populationChange  hasEducation  \\\n",
       "name                                                                            \n",
       "Växjö                      0.1            831               0.8          27.5   \n",
       "Vänersborg                -0.1            641               2.7          35.0   \n",
       "Årjäng                    -1.9            575              -3.5          22.8   \n",
       "Hässleholm                 0.5            751               3.9          30.7   \n",
       "Bjurholm                   3.5            205              -3.2          25.1   \n",
       "\n",
       "            asylumCosts  urbanDegree  foreignBorn      ...        refugees  \\\n",
       "name                                                   ...                   \n",
       "Växjö               333         49.1         11.7      ...            33.8   \n",
       "Vänersborg            0         67.4          6.7      ...            14.4   \n",
       "Årjäng             1960         72.8          8.8      ...            11.2   \n",
       "Hässleholm          749         88.9         15.5      ...            13.2   \n",
       "Bjurholm            546         39.3         11.2      ...            52.0   \n",
       "\n",
       "            rentalApartments   governing  fokusRanking  foretagsklimatRanking  \\\n",
       "name                                                                            \n",
       "Växjö                  234.1  Borgerligt            19                     24   \n",
       "Vänersborg             164.8     Blandat            80                    231   \n",
       "Årjäng                 129.1  Borgerligt           204                    113   \n",
       "Hässleholm             136.9  Borgerligt            83                    187   \n",
       "Bjurholm                87.6  Borgerligt           266                     38   \n",
       "\n",
       "                   cars motorcycles    tractors  snowmobiles  AsylumSeekers  \n",
       "name                                                                         \n",
       "Växjö       3651.694532  200.542250  260.370538     4.609128           4.95  \n",
       "Vänersborg  2230.455552  138.180123  226.960270     8.155657          19.78  \n",
       "Årjäng       765.670911   46.767875  183.031342    11.263467          13.36  \n",
       "Hässleholm  1311.598558  103.215144  181.189904     0.951522          12.48  \n",
       "Bjurholm     565.270936   38.177340  176.518883   186.781609           4.93  \n",
       "\n",
       "[5 rows x 28 columns]"
      ]
     },
     "execution_count": 6,
     "metadata": {},
     "output_type": "execute_result"
    }
   ],
   "source": [
    "features_to_drop = ['code', 'name', 'youthUnemployment2010', 'unemployment2010', 'satisfactionInfluence','satisfactionGeneral', 'satisfactionElderlyCare', 'Municipality']\n",
    "muni = muni.drop(features_to_drop, axis=1)\n",
    "muni.head()"
   ]
  },
  {
   "cell_type": "markdown",
   "metadata": {},
   "source": [
    "As our final pre-processing steps, we convert categorical variables to dummy variables and create a couple of binary classification variables for whether SD or C achieved more than 15% of the votes in each municipality. "
   ]
  },
  {
   "cell_type": "code",
   "execution_count": 7,
   "metadata": {
    "collapsed": true
   },
   "outputs": [],
   "source": [
    "X = pd.get_dummies(muni)\n",
    "sd_over_15 = vote_perc.SD > 15.0\n",
    "c_over_10 = vote_perc.C > 10"
   ]
  },
  {
   "cell_type": "markdown",
   "metadata": {},
   "source": [
    "<h2>Regression case</h2>"
   ]
  },
  {
   "cell_type": "markdown",
   "metadata": {},
   "source": [
    "Let's try to model the vote share of MP, for instance."
   ]
  },
  {
   "cell_type": "code",
   "execution_count": 8,
   "metadata": {},
   "outputs": [
    {
     "data": {
      "text/plain": [
       "RandomForestRegressor(bootstrap=True, criterion='mse', max_depth=2,\n",
       "           max_features='auto', max_leaf_nodes=None,\n",
       "           min_impurity_decrease=0.0, min_impurity_split=None,\n",
       "           min_samples_leaf=1, min_samples_split=2,\n",
       "           min_weight_fraction_leaf=0.0, n_estimators=10, n_jobs=1,\n",
       "           oob_score=False, random_state=0, verbose=0, warm_start=False)"
      ]
     },
     "execution_count": 8,
     "metadata": {},
     "output_type": "execute_result"
    }
   ],
   "source": [
    "X_train, X_test, y_train, y_test = train_test_split(X, vote_perc.MP, test_size=0.33, random_state=42)\n",
    "rf = RandomForestRegressor(max_depth=2, random_state=0)\n",
    "rf.fit(X_train, y_train)"
   ]
  },
  {
   "cell_type": "markdown",
   "metadata": {},
   "source": [
    "How are we doing on the test set?"
   ]
  },
  {
   "cell_type": "code",
   "execution_count": 13,
   "metadata": {},
   "outputs": [
    {
     "data": {
      "application/vnd.plotly.v1+json": {
       "data": [
        {
         "mode": "markers",
         "text": [
          "Simrishamn",
          "Härryda",
          "Nordmaling",
          "Köping",
          "Klippan",
          "Skara",
          "Hallstahammar",
          "Bollnäs",
          "Ängelholm",
          "Malung-Sälen",
          "Degerfors",
          "Öckerö",
          "Älmhult",
          "Göteborg",
          "Strängnäs",
          "Malå",
          "Laholm",
          "Essunga",
          "Luleå",
          "Lerum",
          "Vadstena",
          "Tyresö",
          "Täby",
          "Alvesta",
          "Säter",
          "Haninge",
          "Burlöv",
          "Storfors",
          "Askersund",
          "Borlänge",
          "Heby",
          "Hylte",
          "Sollentuna",
          "Lycksele",
          "Västervik",
          "Åmål",
          "Botkyrka",
          "Vaggeryd",
          "Arboga",
          "Ovanåker",
          "Habo",
          "Tranemo",
          "Mölndal",
          "Perstorp",
          "Katrineholm",
          "Bengtsfors",
          "Lekeberg",
          "Dorotea",
          "Trosa",
          "Gagnef",
          "Kungälv",
          "Rättvik",
          "Ånge",
          "Västerås",
          "Håbo",
          "Haparanda",
          "Timrå",
          "Finspång",
          "Färgelanda",
          "Sundsvall",
          "Jönköping",
          "Österåker",
          "Emmaboda",
          "Vindeln",
          "Mark",
          "Flen",
          "Tidaholm",
          "Herrljunga",
          "Skinnskatteberg",
          "Hjo",
          "Berg",
          "Borgholm",
          "Sala",
          "Krokom",
          "Sotenäs",
          "Norsjö",
          "Mellerud",
          "Järfälla",
          "Hudiksvall",
          "Upplands-Bro",
          "Sorsele",
          "Stockholm",
          "Gnosjö",
          "Kil",
          "Arvidsjaur",
          "Härjedalen",
          "Tjörn",
          "Ödeshög",
          "Malmö",
          "Sollefteå",
          "Kungsbacka",
          "Vetlanda",
          "Markaryd",
          "Mora",
          "Knivsta",
          "Pajala"
         ],
         "type": "scatter",
         "x": [
          4.921766886401945,
          6.524439054271238,
          3.106085015104139,
          4.424366862596321,
          4.424366862596321,
          5.709642843050706,
          4.01836781291996,
          4.004391029847094,
          5.654057975983458,
          4.01836781291996,
          3.106085015104139,
          6.336674725574909,
          5.797859767203316,
          7.838177674275967,
          5.949020819241182,
          3.7251653051284124,
          4.305814868441495,
          3.106085015104139,
          6.481573812085341,
          6.739530050765095,
          4.921766886401945,
          7.336734206399951,
          7.818134695818219,
          4.322948896319582,
          4.15115733419492,
          6.497319567742993,
          5.949020819241182,
          3.106085015104139,
          3.5750026848810457,
          5.85766367638404,
          3.7251653051284124,
          4.1822681451458745,
          8.237786133923267,
          4.547913585891942,
          4.921766886401945,
          4.3245792077823655,
          6.97998623440966,
          4.1822681451458745,
          4.338294454103124,
          3.106085015104139,
          4.921766886401945,
          3.8637102786733855,
          8.2797438545115,
          4.027610610899299,
          4.469715200667409,
          3.106085015104139,
          4.469715200667409,
          3.106085015104139,
          4.976728483944187,
          4.7671093521553685,
          6.524439054271238,
          4.666509411318887,
          3.106085015104139,
          7.4044164147423475,
          5.961772101424473,
          3.106085015104139,
          4.027610610899299,
          4.305814868441495,
          3.106085015104139,
          6.082872874035703,
          6.263821711245005,
          6.957282151605431,
          3.3935320706256737,
          3.8658460563021206,
          5.684106253414852,
          3.282635160755408,
          3.8890656373543258,
          4.1822681451458745,
          3.106085015104139,
          4.4929519883496996,
          3.106085015104139,
          4.921766886401945,
          4.469715200667409,
          4.921766886401945,
          4.666509411318887,
          3.106085015104139,
          3.106085015104139,
          8.231728909897292,
          4.921766886401945,
          6.589487147899227,
          3.106085015104139,
          8.497495955351836,
          3.4465354929813214,
          4.921766886401945,
          3.7251653051284124,
          4.3245792077823655,
          6.390586999476717,
          3.282635160755408,
          6.943182970778625,
          3.570082216276943,
          6.705387891480541,
          4.1822681451458745,
          3.8637102786733855,
          4.976728483944187,
          7.223049197059977,
          3.2467657662778477
         ],
         "y": [
          5.7,
          7.9,
          2.3,
          3.9,
          3.8,
          5.2,
          3.9,
          4.1,
          5.7,
          2.6,
          4,
          5.2,
          5.1,
          9.7,
          5.8,
          2.3,
          4.9,
          4,
          6.5,
          8.4,
          6,
          8.2,
          6.1,
          3.4,
          3.8,
          7.5,
          5.7,
          2.4,
          4,
          5.5,
          3.5,
          2.8,
          8.1,
          2.2,
          4.4,
          4.8,
          7.9,
          4,
          5.1,
          3.4,
          5.3,
          4.3,
          8.9,
          4,
          5.9,
          3.3,
          4.2,
          1.6,
          6.5,
          4.3,
          6.3,
          4.6,
          1.8,
          5.8,
          5.5,
          2.7,
          2.9,
          4.5,
          2.4,
          5,
          6.7,
          7.7,
          3.8,
          2.9,
          5.3,
          4.8,
          4.4,
          4.1,
          2.9,
          5.3,
          3.6,
          4.3,
          4.6,
          4.5,
          3.7,
          1.2,
          3.2,
          7.7,
          5.9,
          6.3,
          3,
          11.1,
          3.2,
          4.3,
          1.6,
          2.7,
          5.4,
          4.6,
          8.5,
          3,
          5.9,
          3.9,
          3.4,
          4.5,
          7.9,
          2.3
         ]
        }
       ],
       "layout": {
        "title": "MP vote share, actual vs predicted",
        "xaxis": {
         "title": "Predicted"
        },
        "yaxis": {
         "title": "Actual"
        }
       }
      },
      "text/html": [
       "<div id=\"72c3dd66-1699-4d05-8057-a32203fd653a\" style=\"height: 525px; width: 100%;\" class=\"plotly-graph-div\"></div><script type=\"text/javascript\">require([\"plotly\"], function(Plotly) { window.PLOTLYENV=window.PLOTLYENV || {};window.PLOTLYENV.BASE_URL=\"https://plot.ly\";Plotly.newPlot(\"72c3dd66-1699-4d05-8057-a32203fd653a\", [{\"type\": \"scatter\", \"x\": [4.921766886401945, 6.524439054271238, 3.106085015104139, 4.424366862596321, 4.424366862596321, 5.709642843050706, 4.01836781291996, 4.004391029847094, 5.654057975983458, 4.01836781291996, 3.106085015104139, 6.336674725574909, 5.797859767203316, 7.838177674275967, 5.949020819241182, 3.7251653051284124, 4.305814868441495, 3.106085015104139, 6.481573812085341, 6.739530050765095, 4.921766886401945, 7.336734206399951, 7.818134695818219, 4.322948896319582, 4.15115733419492, 6.497319567742993, 5.949020819241182, 3.106085015104139, 3.5750026848810457, 5.85766367638404, 3.7251653051284124, 4.1822681451458745, 8.237786133923267, 4.547913585891942, 4.921766886401945, 4.3245792077823655, 6.97998623440966, 4.1822681451458745, 4.338294454103124, 3.106085015104139, 4.921766886401945, 3.8637102786733855, 8.2797438545115, 4.027610610899299, 4.469715200667409, 3.106085015104139, 4.469715200667409, 3.106085015104139, 4.976728483944187, 4.7671093521553685, 6.524439054271238, 4.666509411318887, 3.106085015104139, 7.4044164147423475, 5.961772101424473, 3.106085015104139, 4.027610610899299, 4.305814868441495, 3.106085015104139, 6.082872874035703, 6.263821711245005, 6.957282151605431, 3.3935320706256737, 3.8658460563021206, 5.684106253414852, 3.282635160755408, 3.8890656373543258, 4.1822681451458745, 3.106085015104139, 4.4929519883496996, 3.106085015104139, 4.921766886401945, 4.469715200667409, 4.921766886401945, 4.666509411318887, 3.106085015104139, 3.106085015104139, 8.231728909897292, 4.921766886401945, 6.589487147899227, 3.106085015104139, 8.497495955351836, 3.4465354929813214, 4.921766886401945, 3.7251653051284124, 4.3245792077823655, 6.390586999476717, 3.282635160755408, 6.943182970778625, 3.570082216276943, 6.705387891480541, 4.1822681451458745, 3.8637102786733855, 4.976728483944187, 7.223049197059977, 3.2467657662778477], \"y\": [5.7, 7.9, 2.3, 3.9, 3.8, 5.2, 3.9, 4.1, 5.7, 2.6, 4.0, 5.2, 5.1, 9.7, 5.8, 2.3, 4.9, 4.0, 6.5, 8.4, 6.0, 8.2, 6.1, 3.4, 3.8, 7.5, 5.7, 2.4, 4.0, 5.5, 3.5, 2.8, 8.1, 2.2, 4.4, 4.8, 7.9, 4.0, 5.1, 3.4, 5.3, 4.3, 8.9, 4.0, 5.9, 3.3, 4.2, 1.6, 6.5, 4.3, 6.3, 4.6, 1.8, 5.8, 5.5, 2.7, 2.9, 4.5, 2.4, 5.0, 6.7, 7.7, 3.8, 2.9, 5.3, 4.8, 4.4, 4.1, 2.9, 5.3, 3.6, 4.3, 4.6, 4.5, 3.7, 1.2, 3.2, 7.7, 5.9, 6.3, 3.0, 11.1, 3.2, 4.3, 1.6, 2.7, 5.4, 4.6, 8.5, 3.0, 5.9, 3.9, 3.4, 4.5, 7.9, 2.3], \"mode\": \"markers\", \"text\": [\"Simrishamn\", \"H\\u00e4rryda\", \"Nordmaling\", \"K\\u00f6ping\", \"Klippan\", \"Skara\", \"Hallstahammar\", \"Bolln\\u00e4s\", \"\\u00c4ngelholm\", \"Malung-S\\u00e4len\", \"Degerfors\", \"\\u00d6cker\\u00f6\", \"\\u00c4lmhult\", \"G\\u00f6teborg\", \"Str\\u00e4ngn\\u00e4s\", \"Mal\\u00e5\", \"Laholm\", \"Essunga\", \"Lule\\u00e5\", \"Lerum\", \"Vadstena\", \"Tyres\\u00f6\", \"T\\u00e4by\", \"Alvesta\", \"S\\u00e4ter\", \"Haninge\", \"Burl\\u00f6v\", \"Storfors\", \"Askersund\", \"Borl\\u00e4nge\", \"Heby\", \"Hylte\", \"Sollentuna\", \"Lycksele\", \"V\\u00e4stervik\", \"\\u00c5m\\u00e5l\", \"Botkyrka\", \"Vaggeryd\", \"Arboga\", \"Ovan\\u00e5ker\", \"Habo\", \"Tranemo\", \"M\\u00f6lndal\", \"Perstorp\", \"Katrineholm\", \"Bengtsfors\", \"Lekeberg\", \"Dorotea\", \"Trosa\", \"Gagnef\", \"Kung\\u00e4lv\", \"R\\u00e4ttvik\", \"\\u00c5nge\", \"V\\u00e4ster\\u00e5s\", \"H\\u00e5bo\", \"Haparanda\", \"Timr\\u00e5\", \"Finsp\\u00e5ng\", \"F\\u00e4rgelanda\", \"Sundsvall\", \"J\\u00f6nk\\u00f6ping\", \"\\u00d6ster\\u00e5ker\", \"Emmaboda\", \"Vindeln\", \"Mark\", \"Flen\", \"Tidaholm\", \"Herrljunga\", \"Skinnskatteberg\", \"Hjo\", \"Berg\", \"Borgholm\", \"Sala\", \"Krokom\", \"Soten\\u00e4s\", \"Norsj\\u00f6\", \"Mellerud\", \"J\\u00e4rf\\u00e4lla\", \"Hudiksvall\", \"Upplands-Bro\", \"Sorsele\", \"Stockholm\", \"Gnosj\\u00f6\", \"Kil\", \"Arvidsjaur\", \"H\\u00e4rjedalen\", \"Tj\\u00f6rn\", \"\\u00d6desh\\u00f6g\", \"Malm\\u00f6\", \"Sollefte\\u00e5\", \"Kungsbacka\", \"Vetlanda\", \"Markaryd\", \"Mora\", \"Knivsta\", \"Pajala\"]}], {\"title\": \"MP vote share, actual vs predicted\", \"xaxis\": {\"title\": \"Predicted\"}, \"yaxis\": {\"title\": \"Actual\"}}, {\"showLink\": true, \"linkText\": \"Export to plot.ly\"})});</script>"
      ],
      "text/vnd.plotly.v1+html": [
       "<div id=\"72c3dd66-1699-4d05-8057-a32203fd653a\" style=\"height: 525px; width: 100%;\" class=\"plotly-graph-div\"></div><script type=\"text/javascript\">require([\"plotly\"], function(Plotly) { window.PLOTLYENV=window.PLOTLYENV || {};window.PLOTLYENV.BASE_URL=\"https://plot.ly\";Plotly.newPlot(\"72c3dd66-1699-4d05-8057-a32203fd653a\", [{\"type\": \"scatter\", \"x\": [4.921766886401945, 6.524439054271238, 3.106085015104139, 4.424366862596321, 4.424366862596321, 5.709642843050706, 4.01836781291996, 4.004391029847094, 5.654057975983458, 4.01836781291996, 3.106085015104139, 6.336674725574909, 5.797859767203316, 7.838177674275967, 5.949020819241182, 3.7251653051284124, 4.305814868441495, 3.106085015104139, 6.481573812085341, 6.739530050765095, 4.921766886401945, 7.336734206399951, 7.818134695818219, 4.322948896319582, 4.15115733419492, 6.497319567742993, 5.949020819241182, 3.106085015104139, 3.5750026848810457, 5.85766367638404, 3.7251653051284124, 4.1822681451458745, 8.237786133923267, 4.547913585891942, 4.921766886401945, 4.3245792077823655, 6.97998623440966, 4.1822681451458745, 4.338294454103124, 3.106085015104139, 4.921766886401945, 3.8637102786733855, 8.2797438545115, 4.027610610899299, 4.469715200667409, 3.106085015104139, 4.469715200667409, 3.106085015104139, 4.976728483944187, 4.7671093521553685, 6.524439054271238, 4.666509411318887, 3.106085015104139, 7.4044164147423475, 5.961772101424473, 3.106085015104139, 4.027610610899299, 4.305814868441495, 3.106085015104139, 6.082872874035703, 6.263821711245005, 6.957282151605431, 3.3935320706256737, 3.8658460563021206, 5.684106253414852, 3.282635160755408, 3.8890656373543258, 4.1822681451458745, 3.106085015104139, 4.4929519883496996, 3.106085015104139, 4.921766886401945, 4.469715200667409, 4.921766886401945, 4.666509411318887, 3.106085015104139, 3.106085015104139, 8.231728909897292, 4.921766886401945, 6.589487147899227, 3.106085015104139, 8.497495955351836, 3.4465354929813214, 4.921766886401945, 3.7251653051284124, 4.3245792077823655, 6.390586999476717, 3.282635160755408, 6.943182970778625, 3.570082216276943, 6.705387891480541, 4.1822681451458745, 3.8637102786733855, 4.976728483944187, 7.223049197059977, 3.2467657662778477], \"y\": [5.7, 7.9, 2.3, 3.9, 3.8, 5.2, 3.9, 4.1, 5.7, 2.6, 4.0, 5.2, 5.1, 9.7, 5.8, 2.3, 4.9, 4.0, 6.5, 8.4, 6.0, 8.2, 6.1, 3.4, 3.8, 7.5, 5.7, 2.4, 4.0, 5.5, 3.5, 2.8, 8.1, 2.2, 4.4, 4.8, 7.9, 4.0, 5.1, 3.4, 5.3, 4.3, 8.9, 4.0, 5.9, 3.3, 4.2, 1.6, 6.5, 4.3, 6.3, 4.6, 1.8, 5.8, 5.5, 2.7, 2.9, 4.5, 2.4, 5.0, 6.7, 7.7, 3.8, 2.9, 5.3, 4.8, 4.4, 4.1, 2.9, 5.3, 3.6, 4.3, 4.6, 4.5, 3.7, 1.2, 3.2, 7.7, 5.9, 6.3, 3.0, 11.1, 3.2, 4.3, 1.6, 2.7, 5.4, 4.6, 8.5, 3.0, 5.9, 3.9, 3.4, 4.5, 7.9, 2.3], \"mode\": \"markers\", \"text\": [\"Simrishamn\", \"H\\u00e4rryda\", \"Nordmaling\", \"K\\u00f6ping\", \"Klippan\", \"Skara\", \"Hallstahammar\", \"Bolln\\u00e4s\", \"\\u00c4ngelholm\", \"Malung-S\\u00e4len\", \"Degerfors\", \"\\u00d6cker\\u00f6\", \"\\u00c4lmhult\", \"G\\u00f6teborg\", \"Str\\u00e4ngn\\u00e4s\", \"Mal\\u00e5\", \"Laholm\", \"Essunga\", \"Lule\\u00e5\", \"Lerum\", \"Vadstena\", \"Tyres\\u00f6\", \"T\\u00e4by\", \"Alvesta\", \"S\\u00e4ter\", \"Haninge\", \"Burl\\u00f6v\", \"Storfors\", \"Askersund\", \"Borl\\u00e4nge\", \"Heby\", \"Hylte\", \"Sollentuna\", \"Lycksele\", \"V\\u00e4stervik\", \"\\u00c5m\\u00e5l\", \"Botkyrka\", \"Vaggeryd\", \"Arboga\", \"Ovan\\u00e5ker\", \"Habo\", \"Tranemo\", \"M\\u00f6lndal\", \"Perstorp\", \"Katrineholm\", \"Bengtsfors\", \"Lekeberg\", \"Dorotea\", \"Trosa\", \"Gagnef\", \"Kung\\u00e4lv\", \"R\\u00e4ttvik\", \"\\u00c5nge\", \"V\\u00e4ster\\u00e5s\", \"H\\u00e5bo\", \"Haparanda\", \"Timr\\u00e5\", \"Finsp\\u00e5ng\", \"F\\u00e4rgelanda\", \"Sundsvall\", \"J\\u00f6nk\\u00f6ping\", \"\\u00d6ster\\u00e5ker\", \"Emmaboda\", \"Vindeln\", \"Mark\", \"Flen\", \"Tidaholm\", \"Herrljunga\", \"Skinnskatteberg\", \"Hjo\", \"Berg\", \"Borgholm\", \"Sala\", \"Krokom\", \"Soten\\u00e4s\", \"Norsj\\u00f6\", \"Mellerud\", \"J\\u00e4rf\\u00e4lla\", \"Hudiksvall\", \"Upplands-Bro\", \"Sorsele\", \"Stockholm\", \"Gnosj\\u00f6\", \"Kil\", \"Arvidsjaur\", \"H\\u00e4rjedalen\", \"Tj\\u00f6rn\", \"\\u00d6desh\\u00f6g\", \"Malm\\u00f6\", \"Sollefte\\u00e5\", \"Kungsbacka\", \"Vetlanda\", \"Markaryd\", \"Mora\", \"Knivsta\", \"Pajala\"]}], {\"title\": \"MP vote share, actual vs predicted\", \"xaxis\": {\"title\": \"Predicted\"}, \"yaxis\": {\"title\": \"Actual\"}}, {\"showLink\": true, \"linkText\": \"Export to plot.ly\"})});</script>"
      ]
     },
     "metadata": {},
     "output_type": "display_data"
    }
   ],
   "source": [
    "trace = go.Scatter(\n",
    "    x = rf.predict(X_test),\n",
    "    y = y_test,\n",
    "    mode = 'markers',\n",
    "    text = X_test.index\n",
    ")\n",
    "\n",
    "layout = go.Layout(\n",
    "    title='MP vote share, actual vs predicted',\n",
    "    xaxis=dict(\n",
    "        title='Predicted'\n",
    "    ),\n",
    "    yaxis=dict(\n",
    "        title='Actual'\n",
    "    )\n",
    ")\n",
    "\n",
    "data = [trace]\n",
    "\n",
    "# Plot and embed in ipython notebook!\n",
    "from plotly.offline import iplot\n",
    "fig = go.Figure(data=data, layout=layout)\n",
    "#py.iplot(fig, filename='axss-labels')\n",
    "iplot(fig, filename='axss-labels')"
   ]
  },
  {
   "cell_type": "code",
   "execution_count": null,
   "metadata": {},
   "outputs": [],
   "source": [
    "# Backup cell\n",
    "from matplotlib import pyplot as plt \n",
    "\n",
    "fig, ax = plt.subplots(subplot_kw=dict(axisbg='#EEEEEE'))\n",
    "N = len(X_test)\n",
    "\n",
    "scatter = ax.scatter(rf.predict(X_test),\n",
    "                 y_test) #,\n",
    "                 #c=np.random.random(size=N),\n",
    "                 #s=1000 * np.random.random(size=N),\n",
    "                 #alpha=0.3,\n",
    "                 #cmap=plt.cm.jet)\n",
    "ax.grid(color='white', linestyle='solid')\n",
    "ax.set_title(\"Actual vs. predicted\", size=20)\n",
    "tooltip = mpld3.plugins.PointLabelTooltip(scatter, labels=list(X_test.index.values))\n",
    "mpld3.plugins.connect(fig, tooltip)\n",
    "mpld3.display()"
   ]
  },
  {
   "cell_type": "code",
   "execution_count": null,
   "metadata": {},
   "outputs": [],
   "source": []
  },
  {
   "cell_type": "markdown",
   "metadata": {},
   "source": [
    "Let's try to explain a prediction from above! Note that the input need to be a (2d) Numpy array, and not for example a Pandas data frame."
   ]
  },
  {
   "cell_type": "code",
   "execution_count": null,
   "metadata": {},
   "outputs": [],
   "source": [
    "ix = np.where(X_test.index == 'Täby')[0].tolist()[0]\n",
    "explainer = lime.lime_tabular.LimeTabularExplainer(np.array(X_train), mode='regression', feature_names=X.columns.tolist(), training_labels=y_train)\n",
    "exp = explainer.explain_instance(np.array(X_test)[ix,:], rf.predict, num_features=3, top_labels=1)\n",
    "exp.show_in_notebook(show_table=True, show_all=True)"
   ]
  },
  {
   "cell_type": "markdown",
   "metadata": {},
   "source": [
    "<h2>Binary classifier decision</h2>"
   ]
  },
  {
   "cell_type": "markdown",
   "metadata": {},
   "source": [
    "We can try to build a classifier that predicts whether some party will get at least a certain percentage, e.g. does SD get more than 15% or C more than 10%?"
   ]
  },
  {
   "cell_type": "code",
   "execution_count": null,
   "metadata": {},
   "outputs": [],
   "source": [
    "X_train, X_test, y_train, y_test = train_test_split(X, sd_over_15, test_size=0.33, random_state=42)\n",
    "rf = RandomForestClassifier()\n",
    "rf.fit(X_train, y_train)\n",
    "sklearn.metrics.confusion_matrix(y_pred=rf.predict(X_test), y_true=y_test)\n",
    "#len(np.where(y_test==True)[0]) / len(y_test)"
   ]
  },
  {
   "cell_type": "markdown",
   "metadata": {},
   "source": [
    "Let's look at false positives, where the algorithm thought SD would get >15% but it didn't. Why did it think so?"
   ]
  },
  {
   "cell_type": "code",
   "execution_count": null,
   "metadata": {},
   "outputs": [],
   "source": [
    "df = pd.DataFrame({'predicted': rf.predict(X_test),\n",
    "             'actual': y_test,\n",
    "             'town': X_test.index})\n",
    "df[(df['actual'] != df['predicted'])]\n"
   ]
  },
  {
   "cell_type": "markdown",
   "metadata": {},
   "source": [
    "For example, Degerfors. What percentage did it have in fact?"
   ]
  },
  {
   "cell_type": "code",
   "execution_count": null,
   "metadata": {},
   "outputs": [],
   "source": [
    "vote_perc.loc[1862]"
   ]
  },
  {
   "cell_type": "code",
   "execution_count": null,
   "metadata": {},
   "outputs": [],
   "source": [
    "ix = np.where(X_test.index == 'Degerfors')[0].tolist()[0]\n",
    "explainer = lime.lime_tabular.LimeTabularExplainer(np.array(X_train), feature_names=X.columns.tolist(), training_labels=sd_over_15)\n",
    "exp = explainer.explain_instance(np.array(X_test)[ix,:], rf.predict_proba, num_features=3, top_labels=1)\n",
    "exp.show_in_notebook(show_table=True, show_all=False)"
   ]
  },
  {
   "cell_type": "markdown",
   "metadata": {},
   "source": [
    "<h2>Multi-class classification</h2>"
   ]
  },
  {
   "cell_type": "markdown",
   "metadata": {},
   "source": [
    "We could also try to predict which party will get the most votes. Check with parties that actually have received the most votes in any municipality."
   ]
  },
  {
   "cell_type": "code",
   "execution_count": null,
   "metadata": {},
   "outputs": [],
   "source": [
    "largest = vote_perc.idxmax(axis=1)\n",
    "largest.value_counts()"
   ]
  },
  {
   "cell_type": "code",
   "execution_count": null,
   "metadata": {},
   "outputs": [],
   "source": [
    "X_train, X_test, y_train, y_test = train_test_split(X, largest, test_size=0.33, random_state=42)\n",
    "rf = RandomForestClassifier()\n",
    "rf.fit(X_train, y_train)\n",
    "sklearn.metrics.confusion_matrix(y_pred=rf.predict(X_test), y_true=y_test)"
   ]
  },
  {
   "cell_type": "markdown",
   "metadata": {},
   "source": [
    "We could look at, for example, where the random forest predicted S as the largest party but M actually won."
   ]
  },
  {
   "cell_type": "code",
   "execution_count": null,
   "metadata": {},
   "outputs": [],
   "source": [
    "df = pd.DataFrame({'predicted': rf.predict(X_test),\n",
    "             'actual': y_test,\n",
    "             'town': X_test.index})\n",
    "df[(df['actual'] == 'M') & (df['predicted'] == 'S')]"
   ]
  },
  {
   "cell_type": "code",
   "execution_count": null,
   "metadata": {
    "collapsed": true
   },
   "outputs": [],
   "source": [
    "ix = np.where(X_test.index == 'Ängelholm')[0].tolist()[0]"
   ]
  },
  {
   "cell_type": "code",
   "execution_count": null,
   "metadata": {},
   "outputs": [],
   "source": [
    "explainer = lime.lime_tabular.LimeTabularExplainer(np.array(X_train), feature_names=X.columns.tolist(), training_labels=largest, class_names=['M','S','SD'])\n",
    "exp = explainer.explain_instance(np.array(X_test)[ix,:], rf.predict_proba, num_features=3, top_labels=2)\n",
    "exp.show_in_notebook(show_table=True, show_all=False)"
   ]
  },
  {
   "cell_type": "markdown",
   "metadata": {
    "collapsed": true
   },
   "source": [
    "Or the converse (predicted M, but S was the largest.)"
   ]
  },
  {
   "cell_type": "code",
   "execution_count": null,
   "metadata": {},
   "outputs": [],
   "source": [
    "df[(df['actual'] == 'S') & (df['predicted'] == 'M')]"
   ]
  },
  {
   "cell_type": "code",
   "execution_count": null,
   "metadata": {},
   "outputs": [],
   "source": [
    "ix = np.where(X_test.index == 'Kungälv')[0].tolist()[0]\n",
    "explainer = lime.lime_tabular.LimeTabularExplainer(np.array(X_train), feature_names=X.columns.tolist(), training_labels=largest, class_names=['M','S','SD'])\n",
    "exp = explainer.explain_instance(np.array(X_test)[ix,:], rf.predict_proba, num_features=3, top_labels=2)\n",
    "exp.show_in_notebook(show_table=True, show_all=True)"
   ]
  },
  {
   "cell_type": "code",
   "execution_count": null,
   "metadata": {
    "collapsed": true
   },
   "outputs": [],
   "source": []
  }
 ],
 "metadata": {
  "kernelspec": {
   "display_name": "Python 3",
   "language": "python",
   "name": "python3"
  },
  "language_info": {
   "codemirror_mode": {
    "name": "ipython",
    "version": 3
   },
   "file_extension": ".py",
   "mimetype": "text/x-python",
   "name": "python",
   "nbconvert_exporter": "python",
   "pygments_lexer": "ipython3",
   "version": "3.6.1"
  }
 },
 "nbformat": 4,
 "nbformat_minor": 2
}
